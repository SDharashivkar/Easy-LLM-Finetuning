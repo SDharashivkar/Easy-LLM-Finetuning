{
 "cells": [
  {
   "cell_type": "code",
   "execution_count": null,
   "id": "f096a395",
   "metadata": {},
   "outputs": [],
   "source": [
    "from datasets import load_dataset\n",
    "from transformers import AutoTokenizer, AutoModelForCausalLM, get_scheduler\n",
    "import torch\n",
    "from torch.utils.data import DataLoader\n",
    "from torch.optim import AdamW"
   ]
  },
  {
   "cell_type": "code",
   "execution_count": null,
   "id": "c2f3d101",
   "metadata": {},
   "outputs": [],
   "source": [
    "tokenizer = AutoTokenizer.from_pretrained(\"EleutherAI/pythia-410m\")\n",
    "dataset = load_dataset(\"conceptofmind/flan2021_submix_original\")\n",
    "# dataset = dataset.train_test_split(test_size=0.8)\n",
    "system_prompt = tokenizer.bos_token + \"system\\n The following is a conversation between user and an AI assistant. \" \\\n",
    "                                      \"The assistant is helpful, creative, clever, and very friendly.\\n\" \\\n",
    "                + tokenizer.eos_token"
   ]
  },
  {
   "cell_type": "code",
   "execution_count": null,
   "id": "a2cab3bd",
   "metadata": {},
   "outputs": [],
   "source": [
    "def tokenize_function(example):\n",
    "    dictionary = tokenizer(system_prompt + tokenizer.bos_token + \"user: \" + example[\"inputs\"] + tokenizer.eos_token +\n",
    "                           tokenizer.bos_token + \"assistant: \" + example[\"targets\"] + tokenizer.eos_token,\n",
    "                           truncation=True)\n",
    "    dictionary[\"k\"] = len(tokenizer(system_prompt + tokenizer.bos_token + \"user: \" + example[\"inputs\"]\n",
    "                                    + tokenizer.eos_token + tokenizer.bos_token + \"assistant: \")[\"input_ids\"]) - 1\n",
    "    return dictionary"
   ]
  },
  {
   "cell_type": "code",
   "execution_count": null,
   "id": "fcd1d5af",
   "metadata": {},
   "outputs": [],
   "source": [
    "train_dataset = dataset[\"train\"].shuffle(seed=42).select(range(20000))\n",
    "tokenized_dataset = train_dataset.map(tokenize_function)\n",
    "tokenized_dataset = tokenized_dataset.remove_columns([\"inputs\", \"targets\", \"task_source\", \"task_name\",\n",
    "                                                      \"template_type\"])\n",
    "tokenized_dataset.set_format(\"torch\")\n",
    "train_dataloader = DataLoader(tokenized_dataset, shuffle=True, batch_size=1)"
   ]
  },
  {
   "cell_type": "code",
   "execution_count": null,
   "id": "5c7e8e9d",
   "metadata": {},
   "outputs": [],
   "source": [
    "model = AutoModelForCausalLM.from_pretrained(\"EleutherAI/pythia-410m\")\n",
    "device = torch.device(\"cuda\") if torch.cuda.is_available() else torch.device(\"cpu\")\n",
    "model.to(device)\n",
    "optimizer = AdamW(model.parameters(), lr=1e-5)\n",
    "num_epochs = 1\n",
    "num_training_steps = num_epochs * len(train_dataloader)\n",
    "lr_scheduler = get_scheduler(\n",
    "    name=\"linear\", optimizer=optimizer, num_warmup_steps=0, num_training_steps=num_training_steps\n",
    ")\n",
    "loss_fct = torch.nn.CrossEntropyLoss()"
   ]
  },
  {
   "cell_type": "code",
   "execution_count": null,
   "id": "742379ab",
   "metadata": {},
   "outputs": [],
   "source": [
    "model.train()\n",
    "i = 0\n",
    "running_loss = 0.0\n",
    "training_loss = []\n",
    "model_save_path = 'flan-pythia.pt'"
   ]
  },
  {
   "cell_type": "markdown",
   "id": "b54f846f",
   "metadata": {},
   "source": [
    "To perform supervised fine-tuning, we move logits and labels, ensuring that the task is not self-supervised. The objective is to predict target tokens based on input tokens, rather than predicting the next input tokens."
   ]
  },
  {
   "cell_type": "code",
   "execution_count": null,
   "id": "221421aa",
   "metadata": {},
   "outputs": [],
   "source": [
    "for batch in train_dataloader:\n",
    "    i += 1\n",
    "    print(i)\n",
    "    batch = {k: v.to(device) for k, v in batch.items()}\n",
    "    k = int(batch[\"k\"])\n",
    "    del batch[\"k\"]\n",
    "    outputs = model(**batch)\n",
    "    labels = batch[\"input_ids\"].to(outputs.logits.device)\n",
    "    #Logits are generated from the last token of the input sequence up to the end, excluding the last token. \n",
    "    #This is because the logit corresponding to the last token is responsible for predicting the EOS (end-of-sequence) token.\n",
    "    shift_logits = outputs.logits[:, k:-1, :].contiguous()\n",
    "    #Labels are from first target token till the end.\n",
    "    shift_labels = labels[:, k + 1:].contiguous()\n",
    "    loss = loss_fct(shift_logits.view(-1, shift_logits.size(-1)), shift_labels.view(-1))\n",
    "    loss.backward()\n",
    "    optimizer.step()\n",
    "    lr_scheduler.step()\n",
    "    optimizer.zero_grad()\n",
    "    running_loss += loss.item()\n",
    "    if i % 100 == 0:\n",
    "        print(running_loss / 100)\n",
    "        training_loss.append(running_loss / 100)\n",
    "        running_loss = 0.0\n",
    "        torch.save(model.state_dict(), model_save_path)\n",
    "        i = 0\n",
    "torch.save(model.state_dict(), model_save_path)"
   ]
  }
 ],
 "metadata": {
  "kernelspec": {
   "display_name": "Python 3 (ipykernel)",
   "language": "python",
   "name": "python3"
  },
  "language_info": {
   "codemirror_mode": {
    "name": "ipython",
    "version": 3
   },
   "file_extension": ".py",
   "mimetype": "text/x-python",
   "name": "python",
   "nbconvert_exporter": "python",
   "pygments_lexer": "ipython3",
   "version": "3.9.13"
  }
 },
 "nbformat": 4,
 "nbformat_minor": 5
}
