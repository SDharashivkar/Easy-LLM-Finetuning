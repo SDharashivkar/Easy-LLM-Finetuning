{
 "cells": [
  {
   "cell_type": "code",
   "execution_count": null,
   "id": "98abaa41",
   "metadata": {},
   "outputs": [],
   "source": [
    "from datasets import load_dataset\n",
    "from transformers import AutoTokenizer, AutoModelForCausalLM, get_scheduler\n",
    "import torch\n",
    "from torch.utils.data import DataLoader\n",
    "from torch.optim import AdamW\n",
    "from torch import nn\n",
    "from torch.distributions import Categorical"
   ]
  },
  {
   "cell_type": "code",
   "execution_count": null,
   "id": "1c67e58b",
   "metadata": {},
   "outputs": [],
   "source": [
    "tokenizer = AutoTokenizer.from_pretrained(\"EleutherAI/pythia-410m\")\n",
    "dataset = load_dataset(\"conceptofmind/flan2021_submix_original\")\n",
    "# dataset = dataset.train_test_split(test_size=0.8)\n",
    "system_prompt = tokenizer.bos_token + \"system\\n The following is a conversation between user and an AI assistant. \" \\\n",
    "                                      \"The assistant is helpful, creative, clever, and very friendly.\\n\" \\\n",
    "                + tokenizer.eos_token"
   ]
  },
  {
   "cell_type": "code",
   "execution_count": null,
   "id": "2bc6b76c",
   "metadata": {},
   "outputs": [],
   "source": [
    "def tokenize_function(example):\n",
    "    return tokenizer(system_prompt + tokenizer.bos_token + \"user: \" + example[\"inputs\"] + tokenizer.eos_token +\n",
    "                     tokenizer.bos_token + \"\\nassistant: \", truncation=True)"
   ]
  },
  {
   "cell_type": "code",
   "execution_count": null,
   "id": "dd0433f7",
   "metadata": {},
   "outputs": [],
   "source": [
    "train_dataset = dataset[\"train\"].shuffle(seed=42).select(range(5000))\n",
    "tokenized_dataset = train_dataset.map(tokenize_function)\n",
    "tokenized_dataset = tokenized_dataset.remove_columns([\"inputs\", \"targets\", \"task_source\", \"task_name\",\n",
    "                                                      \"template_type\"])\n",
    "tokenized_dataset.set_format(\"torch\")\n",
    "train_dataloader = DataLoader(tokenized_dataset, shuffle=True, batch_size=1)"
   ]
  },
  {
   "cell_type": "code",
   "execution_count": null,
   "id": "9e175ae2",
   "metadata": {},
   "outputs": [],
   "source": [
    "class PolicyModel(nn.Module):\n",
    "    def __init__(self):\n",
    "        super(PolicyModel, self).__init__()\n",
    "        self.base_model = AutoModelForCausalLM.from_pretrained(\"EleutherAI/pythia-410m\")\n",
    "        self.linear = nn.Linear(self.base_model.config.hidden_size, 1)\n",
    "        self.reward_layer = nn.Linear(self.base_model.config.hidden_size, 1)\n",
    "        self.reward_layer.load_state_dict(torch.load(\"rm-pythia.pt\"))\n",
    "\n",
    "    def generate_response(self, logits, temperature=1.0):\n",
    "        scaled_logits = logits / (temperature + 0.000000001)\n",
    "        probabilities = nn.functional.softmax(scaled_logits, dim=-1)\n",
    "        reshaped_probabilities = probabilities.view(probabilities.size()[0] * probabilities.size()[1],\n",
    "                                                    probabilities.size()[2])\n",
    "        m = Categorical(reshaped_probabilities)\n",
    "        response_tokens = m.sample()\n",
    "        response = tokenizer.decode(response_tokens)\n",
    "        return m, response_tokens, response\n",
    "\n",
    "    def forward(self, input_ids, attention_mask):\n",
    "        base_model_output = self.base_model(input_ids, attention_mask, output_hidden_states=True)\n",
    "        value = nn.functional.relu(torch.mean(self.linear(base_model_output.hidden_states[-1].detach())))\n",
    "        m, response_tokens, response= self.generate_response(base_model_output.logits, temperature=0.7)\n",
    "        return m, response_tokens, response, value\n",
    "\n",
    "    def get_reward(self, input_ids, attention_mask):\n",
    "        base_model_output = self.base_model(input_ids, attention_mask, output_hidden_states=True)\n",
    "        return torch.mean(self.reward_layer(base_model_output.hidden_states[-1].detach()))"
   ]
  },
  {
   "cell_type": "code",
   "execution_count": null,
   "id": "7d1c6f75",
   "metadata": {},
   "outputs": [],
   "source": [
    "model = PolicyModel()\n",
    "ref_model = PolicyModel()\n",
    "device = torch.device(\"cuda\") if torch.cuda.is_available() else torch.device(\"cpu\")\n",
    "model.to(device)\n",
    "optimizer = AdamW(model.base_model.parameters(), lr=4e-6)\n",
    "value_optimizer = AdamW(model.linear.parameters(), lr=1e-5)\n",
    "num_epochs = 1\n",
    "num_training_steps = num_epochs * len(train_dataloader)\n",
    "lr_scheduler = get_scheduler(\n",
    "    name=\"linear\", optimizer=optimizer, num_warmup_steps=0, num_training_steps=num_training_steps\n",
    ")\n",
    "mse = nn.MSELoss()\n",
    "beta = 0.02"
   ]
  },
  {
   "cell_type": "code",
   "execution_count": null,
   "id": "a02fbb15",
   "metadata": {},
   "outputs": [],
   "source": [
    "model.train()\n",
    "ref_model.eval()\n",
    "i = 0\n",
    "running_loss = 0.0\n",
    "training_loss = []\n",
    "model_save_path = 'rlhf-pythia.pt'"
   ]
  },
  {
   "cell_type": "code",
   "execution_count": null,
   "id": "77d7094d",
   "metadata": {},
   "outputs": [],
   "source": []
  }
 ],
 "metadata": {
  "kernelspec": {
   "display_name": "Python 3 (ipykernel)",
   "language": "python",
   "name": "python3"
  },
  "language_info": {
   "codemirror_mode": {
    "name": "ipython",
    "version": 3
   },
   "file_extension": ".py",
   "mimetype": "text/x-python",
   "name": "python",
   "nbconvert_exporter": "python",
   "pygments_lexer": "ipython3",
   "version": "3.9.13"
  }
 },
 "nbformat": 4,
 "nbformat_minor": 5
}
